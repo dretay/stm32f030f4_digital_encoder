{
 "cells": [
  {
   "cell_type": "code",
   "execution_count": 21,
   "id": "b8d37125-7cae-443d-8a05-bad191f71086",
   "metadata": {},
   "outputs": [],
   "source": [
    "import struct\n",
    "import time\n",
    "from greatfet import GreatFET\n",
    "gf = GreatFET()"
   ]
  },
  {
   "cell_type": "code",
   "execution_count": 6,
   "id": "93d0a0df-f321-4707-b441-467af05cbbee",
   "metadata": {},
   "outputs": [],
   "source": [
    "# define some commands\n",
    "ENCODER_AND_SWITCH_QUERY = [0x00]\n",
    "ENCODER_AND_SWITCH_RESET = [0x01]\n",
    "\n",
    "# set the target address \n",
    "ADDRESS     =  0x10"
   ]
  },
  {
   "cell_type": "code",
   "execution_count": 20,
   "id": "f8e98c75-0f6a-449e-ac4d-fb6fd619b312",
   "metadata": {},
   "outputs": [
    {
     "data": {
      "text/plain": [
       "(8481,)"
      ]
     },
     "execution_count": 20,
     "metadata": {},
     "output_type": "execute_result"
    }
   ],
   "source": [
    "# command a encoder read\n",
    "gf.i2c.write(ADDRESS, ENCODER_AND_SWITCH_QUERY)\n",
    "\n",
    "# wait for measurement to complete\n",
    "time.sleep(0.2)\n",
    "\n",
    "# read the encoder value\n",
    "encoder_val = gf.i2c.read(ADDRESS, 5)\n",
    "\n",
    "struct.unpack('>h', bytes(encoder_val[:2]))"
   ]
  },
  {
   "cell_type": "code",
   "execution_count": null,
   "id": "65045912-30be-432d-8ce8-a7ebbccf4ce6",
   "metadata": {},
   "outputs": [],
   "source": []
  }
 ],
 "metadata": {
  "kernelspec": {
   "display_name": "Python 3 (ipykernel)",
   "language": "python",
   "name": "python3"
  },
  "language_info": {
   "codemirror_mode": {
    "name": "ipython",
    "version": 3
   },
   "file_extension": ".py",
   "mimetype": "text/x-python",
   "name": "python",
   "nbconvert_exporter": "python",
   "pygments_lexer": "ipython3",
   "version": "3.11.11"
  }
 },
 "nbformat": 4,
 "nbformat_minor": 5
}
